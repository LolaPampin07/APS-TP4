{
 "cells": [
  {
   "cell_type": "markdown",
   "id": "e816d435-d259-467a-808b-dd24c8b2d7ab",
   "metadata": {},
   "source": [
    "#  TS4: Primeras nociones de estimación espectral \n",
    "## Autora: Catalina Gonzalez Araujo y Lola Pampin\n",
    "## Docentes: Mariano Llamedo Soria, Francisco Hernan Ledesma y David Ezequiel Benoit\n",
    "### 24/09/2025"
   ]
  },
  {
   "cell_type": "markdown",
   "id": "3ff721f5-4836-4ebb-bf91-66c6597a9dc6",
   "metadata": {},
   "source": [
    "# I. **Resumen**"
   ]
  },
  {
   "cell_type": "markdown",
   "id": "4dd130b1-4544-4216-a0a2-b0013b3d9ff5",
   "metadata": {},
   "source": [
    "# II. <u>**Introducción**</u>\n",
    "\n",
    "1. <u>**Señales y modelos estocásticos en procesamiento digital de señales**</u>\n",
    "   \n",
    "   En el análisis de señales digitales, es común modelar una señal como la combinación de una componente determinística y ruido aleatorio. La señal que se estudia en este trabajo está definida como: $x(k) = a_0 * \\sin(\\Omega_1 * n) + n_a(n)$\n",
    "\n",
    "   Donde:\n",
    "   \n",
    "-\t$a_0 = 2$ es la amplitud de la señal sinusoidal.\n",
    "\n",
    "-\t$\\Omega_1 = \\Omega_0 + f_r * \\frac{2 * \\pi}{N}$ es la frecuencia angular de la señal, ligeramente desintonada respecto a $\\Omega_0 = \\frac{\\pi}{2}$.\n",
    "\n",
    "-\t$f_r ≈ U(-2, 2)$ representa un desplazamiento aleatorio uniforme de frecuencia, modelando pequeñas fluctuaciones o incertidumbre en la frecuencia de la señal.\n",
    "\n",
    "-\t$n_a(n) ≈ N(0, \\sigma^2)$ es ruido aditivo gaussiano con media cero y varianza $\\sigma^2$, que representa perturbaciones aleatorias típicas en sistemas físicos.\n",
    "\n",
    "\n",
    "Este modelo se conoce como modelo aditivo de señal con ruido, y es la base para muchos estudios de estimación en procesamiento digital de señales.\n",
    "\n",
    "2. <u>**Señal vs Ruido y SNR**</u>\n",
    "\n",
    "   \n",
    "   El **SNR (Signal-to-Noise Ratio)** es la relación entre la potencia de la señal útil y la potencia del ruido: $SNR(dB) = 10 * \\log_{10}{\\frac{P_señal}{P_ruido}}$\n",
    "   \n",
    "-\tUna *SNR* alta indica que la señal es mucho mas fuerte que el ruido, facilitando su detección y estimación. \n",
    "\n",
    "-\tUna *SNR* baja indica que el ruido domina, haciendo mas difícil estimar correctamente la amplitud y frecuencia de la señal.\n",
    "\n",
    "3. <u>**Distribuciones de probabilidad**</u>\n",
    "   \n",
    "   Las distribuciones de probabilidad describen el comportamiento de variables aleatorias:\n",
    "   \n",
    "-\tDistribución uniforme $U(a,b)$: todos los valores en el intervalo $[a,b]$ tienen la misma probabilidad. En nuestro caso $f_r ≈ U(-2, 2)$ modela un desplazamiento de frecuencia aleatorio con igual probabilidad en el rango dado.\n",
    "\n",
    "-\tDistribución normal $N(\\mu, \\sigma^2)$: la variable aleatoria tiene mayor probabilidad cerca de la media $\\mu$ y menor probabilidad cuanto más se aleja de $\\mu$. El ruido $n_a(n) ≈ N(0, \\sigma^2)$ sigue esta distribución.\n",
    "\n",
    "Estas distribuciones son fundamentales para modelar incertidumbre y ruido en sistemas de procesamiento digital.\n",
    "\n",
    "4. <u>**Transformada Discreta de Fourier y estimacion espectral**</u>\n",
    "\n",
    "La **Transformada Discreta de Fourier** (*DFT*) permite representar una señal discreta en el dominio de la frecuencia. Para un vector $x(n)$ de $N$ muestras, la DFT está dada por: \n",
    "$$\n",
    "X(k) = \\sum_{n=0}^{N-1} x(n) \\cdot e^{-j \\frac{2\\pi kn}{N}} \\quad k = 0, 1, ..., N -1\n",
    "$$\n",
    "\n",
    "En presencia de ruido y desintonia de frecuencia, el espectro de la señal se *“difumina”*, y se hace necesario aplicar ventanas para controlar efectos como el leakage, que afecta la precisión de la estimación de amplitud y frecuencia.  \n",
    "\n",
    "5. <u>**Ventanas**</u>\n",
    "\n",
    "   Las **ventanas** son funciones que muliplican la señal temporal antes de calcular la *DFT*, con el fin de reducir el leakage espectral. Hay distintos tipos de ventanas:\n",
    "   \n",
    "-\t*Rectangular* (sin ventana): es la mas simple, es esuivalente a no aplicar ventana. Tiene una alta resolución en frecuencia, pero alto leakage.\n",
    "\n",
    "-\t*Flat – top*: es diseñada para estimación precisa de amplitud. Minimiza los errores en la magnitus de picos espectrales. \n",
    "\n",
    "-\t*Blackman – Harris*: es una ventana con sidelobes muy bajos, es útil para detectar señales con bajo SNR.\n",
    "\n",
    "-\tOtras ventanas: Hann, Hamming, etc.\n",
    "\n",
    "Cada ventana tiene un *trade – off* entre resolución espectral (capacidad de separar frecuencias cercanas) y precisión en la amplitud.\n",
    "\n",
    "6. <u>**Estimadores de amplitud y frecuencia**</u>\n",
    "\n",
    "   Un **estimador** es una regla o fórmula que permite calcular un valor aproximado de un parámetro desconocido de una señal a partir de datos observados.\n",
    "   \n",
    "Para estimar la amplitud $a_1$ y la frecuencia $\\omega_1$ de la señal, se usan los siguientes estimadores basados en la *DFT* de la señal ventana $w_i(n)$: \n",
    "\n",
    "-\t**Estimador de amplitud**: intenta determinar el valor real de la amplitud de la señal sinusoidal a partir de sus muestras \n",
    "\n",
    "$$\n",
    "a^{1}_{i} = \\left| X^{w}_{i}(\\Omega_{0}) \\right| = \\left| \\mathrm{DFT} \\left\\{ x(n) \\cdot w_{i}(n) \\right\\} \\right|_{\\Omega_{0}}\n",
    "$$\n",
    "\n",
    "-   **Estimador de frecuencia**: busca aproximar la frecuencia real de la señal\n",
    "\n",
    "$$\n",
    "\\Omega^{1}_{i} = \\arg\\max_{\\Omega} \\left| X^{w}_{i}(\\Omega) \\right|\n",
    "$$\n",
    "\n",
    "Es decir, la amplitud se obtiene evaluando el módulo de la DFT en la frecuencia nominal omega0, mientras que la frecuencia se estima buscando el máximo del espectro de la señal ventana.\n",
    "\n",
    "7. <u>**Sesgo y varianza de estimadores**</u>\n",
    "\n",
    "   Un estimador se evalua en términos de **sesgo** y **varianza**, que reflejan su precisión y consistencia.\n",
    "    \n",
    "-\tSesgo ($s_a$): es la diferencia entre la media esperada del estimador y el valor real: \n",
    "$$\n",
    "s_{a} = \\mathbb{E}\\left\\{ a^{1} \\right\\} - a_{0}\n",
    "$$\n",
    "\n",
    "-\tVarianza ($v_a$): medida de la dispersión de los resultados alrededor de la media:\n",
    "$$\n",
    "v_{a} = \\mathbb{E}\\left\\{ \\left( a^{1} - \\mathbb{E}\\left\\{ a^{1} \\right\\} \\right)^2 \\right\\}\n",
    "$$\n",
    "\n",
    "\tCuando se trabaja con simulaciones o experimentos numéricos, los valores esperados se aproximan mediante promedios muestrales sobre $M$ realizaciones: \n",
    "    \n",
    "$$\n",
    "\\mu_{\\hat{a}} = \\frac{1}{M} \\sum_{j=0}^{M-1} a^{1}_{j}, \\quad s_{a} = \\mu_{\\hat{a}} - a_{0}, \\quad v_{a} = \\frac{1}{M} \\sum_{j=0}^{M-1} \\left( a^{1}_{j} - \\mu_{\\hat{a}} \\right)^2\n",
    "$$\n",
    "    \n",
    "   De manera análoga, se puede calcular el sesgo y varianza del estimador de frecuencias $\\Omega_1$.\n",
    "\n",
    "\n"
   ]
  },
  {
   "cell_type": "markdown",
   "id": "d9660844-5e93-4b7d-aa84-89125c639931",
   "metadata": {},
   "source": [
    "# III. **Desarrollo**"
   ]
  },
  {
   "cell_type": "code",
   "execution_count": null,
   "id": "da82872e-567b-4007-b32a-708b4d3defaf",
   "metadata": {
    "jupyter": {
     "source_hidden": true
    }
   },
   "outputs": [],
   "source": [
    "# %%librerias + variables\n",
    "\n",
    "\n",
    "import numpy as np\n",
    "import matplotlib.pyplot as plt\n",
    "from scipy import signal\n",
    "from numpy.fft import fft\n",
    "\n",
    "# declaracion de varibles\n",
    "\n",
    "N = 1000 #cantidad de muestras\n",
    "fs = N #frecuencia de muestreo\n",
    "df = fs/N # Resolucion temporal\n",
    "a0 = 2 #amplitud\n",
    "realizaciones = 200 # Sirve para parametrizar la cantidad de realizaciones de sampling ->muestras que vamos a tomar de la frecuencia\n",
    "omega_0 = np.pi / 2 # fs/4 -> mitad de banda digital\n",
    "fr = np.random.uniform(-2,2,realizaciones) #variable aleatoria de distribucion normal para la frecuencia\n",
    "omega_1 = omega_0 + fr * 2 * np.pi / N\n",
    "nn = np.arange(N) # Vector dimensional de muestras\n",
    "ff = np.arange(N) # Vector en frecuencia al escalar las muestras por la resolucion espectral\n",
    "\n",
    "#signal to noise ratio en dB segun pide la consigna\n",
    "SNR3=3\n",
    "SNR10 = 10"
   ]
  },
  {
   "cell_type": "code",
   "execution_count": null,
   "id": "b2221048-019a-4e59-9193-da93775dd6b9",
   "metadata": {
    "jupyter": {
     "source_hidden": true
    }
   },
   "outputs": [],
   "source": [
    "# %% FUNCION SENOIDAL\n",
    "def mi_funcion_sen(frecuencia, nn, amplitud = 1, offset = 0, fase = 0, fs = 2):   \n",
    "\n",
    "    N = np.arange(nn)\n",
    "    \n",
    "    t = N / fs\n",
    "\n",
    "    x = amplitud * np.sin(2 * np.pi * frecuencia * t + fase) + offset\n",
    "\n",
    "    return t, x\n",
    "\n",
    "t1,s1 = mi_funcion_sen(frecuencia = omega_1, nn = N, fs = fs, amplitud = a0) # Funcion senoidal con frecuencia aleatoria"
   ]
  },
  {
   "cell_type": "code",
   "execution_count": null,
   "id": "3e1dbe07-e96d-4b12-8c70-29a970ab4102",
   "metadata": {},
   "outputs": [],
   "source": [
    "# %%RUIDO\n",
    "\n",
    "pot_ruido3 = a0*2 / (2*10*(SNR3/10))\n",
    "print(f\"Potencia del SNR 3dB -> {pot_ruido3:.3f}\")\n",
    "ruido3 = np.random.normal(0, np.sqrt(pot_ruido3), N) # Vector\n",
    "var_ruido3 = np.var(ruido3)\n",
    "print(f\"Potencia de ruido 3dB -> {var_ruido3:.3f}\")\n",
    "\n",
    "pot_ruido10 = a0*2 / (2*10*(SNR10/10))\n",
    "print(f\"Potencia del SNR 10dB-> {pot_ruido10:.3f}\")\n",
    "ruido10 = np.random.normal(0, np.sqrt(pot_ruido10), N) # Vector\n",
    "var_ruido10 = np.var(ruido10)\n",
    "print(f\"Potencia de ruido 10dB -> {var_ruido10:.3f}\")\n",
    "\n",
    "\n",
    "# Modelo de señal --> señal limpia + ruido\n",
    "x1 = s1 + ruido3  \n",
    "x2 = s1 + ruido10  \n",
    "\n",
    "#grafico de la senal + ruido\n",
    "plt.figure()\n",
    "plt.plot(x1,'x',label='senal + 3dB ruido')\n",
    "plt.plot(x2,'o',label='senal + 10dB ruido')\n",
    "plt.legend()\n",
    "plt.show()"
   ]
  },
  {
   "cell_type": "code",
   "execution_count": null,
   "id": "9e045409-d543-4ea6-ab54-14f65f742ca7",
   "metadata": {},
   "outputs": [],
   "source": [
    "# %%FFT\n",
    "\n",
    "X1 = (1/N)*fft(x1) # Multiplico por 1/N para calibrarlo --> llevar el piso de ruido a cero\n",
    "\n",
    "X2 = (1/N)*fft(x2)# Multiplico por 1/N para calibrarlo --> llevar el piso de ruido a cero\n",
    "\n",
    "\n",
    "# GRAFICO\n",
    "plt.figure(figsize=(20,20))\n",
    "\n",
    "# Grafico X1 en db\n",
    "\n",
    "plt.title(\"Densidades espectrales de potencia (PDS) en db\")\n",
    "plt.xlabel('Frecuencia (Hz)')\n",
    "plt.ylabel('PDS [db]')\n",
    "plt.xlim([0, fs/2]) # En este caso fs = N, pero pongo fs para saber que va eso y no va siempre N\n",
    "# plt.plot(ff, np.log10(np.abs(S1)**2) * 10, label = 'S1') # En este caso es un db de tension\n",
    "# plt.plot(ff, np.log10(np.abs(R)**2) * 10, label = 'Ruido')\n",
    "plt.plot(ff, np.log10(2*np.abs(X1)**2 * 10), label = 'X1')  # Densidad espectral de potencia\n",
    "plt.plot(ff, np.log10(2*np.abs(X2)**2* 10), label = 'X2')\n",
    "plt.legend()\n",
    "plt.show()"
   ]
  },
  {
   "cell_type": "markdown",
   "id": "dca0e702-5eaa-4633-944b-e2ac476eeb31",
   "metadata": {},
   "source": [
    "# III. **Conclusiones**"
   ]
  },
  {
   "cell_type": "markdown",
   "id": "e268058f-5300-4714-9e4a-adb4eae9a64f",
   "metadata": {},
   "source": [
    "# I. *Introducción*"
   ]
  },
  {
   "cell_type": "markdown",
   "id": "74c5fdf2-eb7e-42a1-ad30-a7c6604503cb",
   "metadata": {},
   "source": [
    "# I. *Introducción*"
   ]
  }
 ],
 "metadata": {
  "kernelspec": {
   "display_name": "Python 3 (ipykernel)",
   "language": "python",
   "name": "python3"
  },
  "language_info": {
   "codemirror_mode": {
    "name": "ipython",
    "version": 3
   },
   "file_extension": ".py",
   "mimetype": "text/x-python",
   "name": "python",
   "nbconvert_exporter": "python",
   "pygments_lexer": "ipython3",
   "version": "3.13.2"
  }
 },
 "nbformat": 4,
 "nbformat_minor": 5
}
