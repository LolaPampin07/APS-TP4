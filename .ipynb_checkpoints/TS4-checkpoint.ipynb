{
 "cells": [
  {
   "cell_type": "markdown",
   "id": "e816d435-d259-467a-808b-dd24c8b2d7ab",
   "metadata": {},
   "source": [
    "#  TS4: Primeras nociones de estimación espectral \n",
    "## Autora: Catalina Gonzalez Araujo y Lola Pampin\n",
    "## Docentes: Mariano Llamedo Soria, Francisco Hernan Ledesma y David Ezequiel Benoit\n",
    "### 24/09/2025"
   ]
  },
  {
   "cell_type": "markdown",
   "id": "3ff721f5-4836-4ebb-bf91-66c6597a9dc6",
   "metadata": {},
   "source": [
    "# I. **Resumen**"
   ]
  },
  {
   "cell_type": "markdown",
   "id": "4dd130b1-4544-4216-a0a2-b0013b3d9ff5",
   "metadata": {},
   "source": [
    "# II. **Introducción**"
   ]
  },
  {
   "cell_type": "markdown",
   "id": "d9660844-5e93-4b7d-aa84-89125c639931",
   "metadata": {},
   "source": [
    "# III. **Desarrollo**"
   ]
  },
  {
   "cell_type": "code",
   "execution_count": null,
   "id": "da82872e-567b-4007-b32a-708b4d3defaf",
   "metadata": {
    "jupyter": {
     "source_hidden": true
    }
   },
   "outputs": [],
   "source": [
    "# %%librerias + variables\n",
    "\n",
    "\n",
    "import numpy as np\n",
    "import matplotlib.pyplot as plt\n",
    "from scipy import signal\n",
    "from numpy.fft import fft\n",
    "\n",
    "# declaracion de varibles\n",
    "\n",
    "N = 1000 #cantidad de muestras\n",
    "fs = N #frecuencia de muestreo\n",
    "df = fs/N # Resolucion temporal\n",
    "a0 = 2 #amplitud\n",
    "realizaciones = 200 # Sirve para parametrizar la cantidad de realizaciones de sampling ->muestras que vamos a tomar de la frecuencia\n",
    "omega_0 = np.pi / 2 # fs/4 -> mitad de banda digital\n",
    "fr = np.random.uniform(-2,2,realizaciones) #variable aleatoria de distribucion normal para la frecuencia\n",
    "omega_1 = omega_0 + fr * 2 * np.pi / N\n",
    "nn = np.arange(N) # Vector dimensional de muestras\n",
    "ff = np.arange(N) # Vector en frecuencia al escalar las muestras por la resolucion espectral\n",
    "\n",
    "#signal to noise ratio en dB segun pide la consigna\n",
    "SNR3=3\n",
    "SNR10 = 10"
   ]
  },
  {
   "cell_type": "code",
   "execution_count": null,
   "id": "b2221048-019a-4e59-9193-da93775dd6b9",
   "metadata": {
    "jupyter": {
     "source_hidden": true
    }
   },
   "outputs": [],
   "source": [
    "# %% FUNCION SENOIDAL\n",
    "def mi_funcion_sen(frecuencia, nn, amplitud = 1, offset = 0, fase = 0, fs = 2):   \n",
    "\n",
    "    N = np.arange(nn)\n",
    "    \n",
    "    t = N / fs\n",
    "\n",
    "    x = amplitud * np.sin(2 * np.pi * frecuencia * t + fase) + offset\n",
    "\n",
    "    return t, x\n",
    "\n",
    "t1,s1 = mi_funcion_sen(frecuencia = omega_1, nn = N, fs = fs, amplitud = a0) # Funcion senoidal con frecuencia aleatoria"
   ]
  },
  {
   "cell_type": "code",
   "execution_count": null,
   "id": "3e1dbe07-e96d-4b12-8c70-29a970ab4102",
   "metadata": {},
   "outputs": [],
   "source": [
    "# %%RUIDO\n",
    "\n",
    "pot_ruido3 = a0*2 / (2*10*(SNR3/10))\n",
    "print(f\"Potencia del SNR 3dB -> {pot_ruido3:.3f}\")\n",
    "ruido3 = np.random.normal(0, np.sqrt(pot_ruido3), N) # Vector\n",
    "var_ruido3 = np.var(ruido3)\n",
    "print(f\"Potencia de ruido 3dB -> {var_ruido3:.3f}\")\n",
    "\n",
    "pot_ruido10 = a0*2 / (2*10*(SNR10/10))\n",
    "print(f\"Potencia del SNR 10dB-> {pot_ruido10:.3f}\")\n",
    "ruido10 = np.random.normal(0, np.sqrt(pot_ruido10), N) # Vector\n",
    "var_ruido10 = np.var(ruido10)\n",
    "print(f\"Potencia de ruido 10dB -> {var_ruido10:.3f}\")\n",
    "\n",
    "\n",
    "# Modelo de señal --> señal limpia + ruido\n",
    "x1 = s1 + ruido3  \n",
    "x2 = s1 + ruido10  \n",
    "\n",
    "#grafico de la senal + ruido\n",
    "plt.figure()\n",
    "plt.plot(x1,'x',label='senal + 3dB ruido')\n",
    "plt.plot(x2,'o',label='senal + 10dB ruido')\n",
    "plt.legend()\n",
    "plt.show()"
   ]
  },
  {
   "cell_type": "code",
   "execution_count": null,
   "id": "9e045409-d543-4ea6-ab54-14f65f742ca7",
   "metadata": {},
   "outputs": [],
   "source": [
    "# %%FFT\n",
    "\n",
    "X1 = (1/N)*fft(x1) # Multiplico por 1/N para calibrarlo --> llevar el piso de ruido a cero\n",
    "\n",
    "X2 = (1/N)*fft(x2)# Multiplico por 1/N para calibrarlo --> llevar el piso de ruido a cero\n",
    "\n",
    "\n",
    "# GRAFICO\n",
    "plt.figure(figsize=(20,20))\n",
    "\n",
    "# Grafico X1 en db\n",
    "\n",
    "plt.title(\"Densidades espectrales de potencia (PDS) en db\")\n",
    "plt.xlabel('Frecuencia (Hz)')\n",
    "plt.ylabel('PDS [db]')\n",
    "plt.xlim([0, fs/2]) # En este caso fs = N, pero pongo fs para saber que va eso y no va siempre N\n",
    "# plt.plot(ff, np.log10(np.abs(S1)**2) * 10, label = 'S1') # En este caso es un db de tension\n",
    "# plt.plot(ff, np.log10(np.abs(R)**2) * 10, label = 'Ruido')\n",
    "plt.plot(ff, np.log10(2*np.abs(X1)**2 * 10), label = 'X1')  # Densidad espectral de potencia\n",
    "plt.plot(ff, np.log10(2*np.abs(X2)**2* 10), label = 'X2')\n",
    "plt.legend()\n",
    "plt.show()"
   ]
  },
  {
   "cell_type": "markdown",
   "id": "dca0e702-5eaa-4633-944b-e2ac476eeb31",
   "metadata": {},
   "source": [
    "# III. **Conclusiones**"
   ]
  },
  {
   "cell_type": "markdown",
   "id": "e268058f-5300-4714-9e4a-adb4eae9a64f",
   "metadata": {},
   "source": [
    "# I. *Introducción*"
   ]
  },
  {
   "cell_type": "markdown",
   "id": "74c5fdf2-eb7e-42a1-ad30-a7c6604503cb",
   "metadata": {},
   "source": [
    "# I. *Introducción*"
   ]
  }
 ],
 "metadata": {
  "kernelspec": {
   "display_name": "Python 3 (ipykernel)",
   "language": "python",
   "name": "python3"
  },
  "language_info": {
   "codemirror_mode": {
    "name": "ipython",
    "version": 3
   },
   "file_extension": ".py",
   "mimetype": "text/x-python",
   "name": "python",
   "nbconvert_exporter": "python",
   "pygments_lexer": "ipython3",
   "version": "3.13.5"
  }
 },
 "nbformat": 4,
 "nbformat_minor": 5
}
